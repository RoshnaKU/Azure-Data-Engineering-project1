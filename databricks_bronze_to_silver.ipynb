{
 "cells": [
  {
   "cell_type": "code",
   "execution_count": 0,
   "metadata": {
    "application/vnd.databricks.v1+cell": {
     "cellMetadata": {},
     "inputWidgets": {},
     "nuid": "82662038-76f6-48ae-bf33-d1221b3abf3a",
     "showTitle": false,
     "title": ""
    }
   },
   "outputs": [],
   "source": [
    "service_credential = dbutils.secrets.get(scope=\"azure-key-vault-secret1\",key=\"datalake-secret\")\n",
    "\n",
    "spark.conf.set(\"fs.azure.account.auth.type.rkudatalakegen2.dfs.core.windows.net\", \"OAuth\")\n",
    "spark.conf.set(\"fs.azure.account.oauth.provider.type.rkudatalakegen2.dfs.core.windows.net\", \"org.apache.hadoop.fs.azurebfs.oauth2.ClientCredsTokenProvider\")\n",
    "spark.conf.set(\"fs.azure.account.oauth2.client.id.rkudatalakegen2.dfs.core.windows.net\", \"e1c699e2-256e-4508-a129-340636ed905f\")\n",
    "spark.conf.set(\"fs.azure.account.oauth2.client.secret.rkudatalakegen2.dfs.core.windows.net\", service_credential)\n",
    "spark.conf.set(\"fs.azure.account.oauth2.client.endpoint.rkudatalakegen2.dfs.core.windows.net\", \"https://login.microsoftonline.com/6dfaeccd-2d4f-43fc-8db8-8298cf6e47f1/oauth2/token\")"
   ]
  },
  {
   "cell_type": "markdown",
   "metadata": {
    "application/vnd.databricks.v1+cell": {
     "cellMetadata": {},
     "inputWidgets": {},
     "nuid": "b72bdab9-6784-4d49-a36c-a87e81c757c4",
     "showTitle": false,
     "title": ""
    }
   },
   "source": [
    "Transforming data in all tables"
   ]
  },
  {
   "cell_type": "code",
   "execution_count": 0,
   "metadata": {
    "application/vnd.databricks.v1+cell": {
     "cellMetadata": {
      "byteLimit": 2048000,
      "rowLimit": 10000
     },
     "inputWidgets": {},
     "nuid": "df23458c-8d19-45f3-a94e-21f96488bdff",
     "showTitle": false,
     "title": ""
    }
   },
   "outputs": [
    {
     "output_type": "stream",
     "name": "stdout",
     "output_type": "stream",
     "text": [
      "['Address', 'Customer', 'CustomerAddress', 'Product', 'ProductCategory', 'ProductDescription', 'ProductModel', 'ProductModelProductDescription', 'SalesOrderDetail', 'SalesOrderHeader']\n"
     ]
    }
   ],
   "source": [
    "table_name=[]\n",
    "\n",
    "for i in dbutils.fs.ls(\"abfss://bronze@rkudatalakegen2.dfs.core.windows.net/SalesLT\"):\n",
    "    table_name.append(i.name.split('/')[0])\n",
    "\n",
    "print(table_name)"
   ]
  },
  {
   "cell_type": "code",
   "execution_count": 0,
   "metadata": {
    "application/vnd.databricks.v1+cell": {
     "cellMetadata": {
      "byteLimit": 2048000,
      "rowLimit": 10000
     },
     "inputWidgets": {},
     "nuid": "1ba53a95-d203-48a5-957e-e84f7ba10ec9",
     "showTitle": false,
     "title": ""
    }
   },
   "outputs": [],
   "source": [
    "from pyspark.sql.functions import from_utc_timestamp, date_format\n",
    "from pyspark.sql.types import TimestampType\n",
    "\n",
    "for n in table_name:\n",
    "    path=f\"abfss://bronze@rkudatalakegen2.dfs.core.windows.net/SalesLT/{n}/{n}.parquet\"\n",
    "    df = spark.read.format('parquet').load(path)\n",
    "    columns= df.columns\n",
    "    \n",
    "    for col in columns:\n",
    "        if \"Date\" in col or \"date\" in col:\n",
    "            df = df.withColumn(col,date_format(from_utc_timestamp(df[col].cast(TimestampType()),\"UTC\"),\"yyyy-mm-dd\"))\n",
    "\n",
    "    output_path = f\"abfss://silver@rkudatalakegen2.dfs.core.windows.net/SalesLT/{n}/\"\n",
    "    #df.write.format('delta').mode(\"overwrite\").save(output_path)\n",
    "    df.write.format('delta').option(\"overwriteSchema\", \"true\").option(\"overwriteDataSchema\", \"true\").option(\"checkConstraints\", \"false\").option(\"ignoreDeletes\", \"true\").option(\"ignoreChanges\", \"true\").option(\"mergeSchema\", \"true\").mode(\"overwrite\").save(output_path)\n"
   ]
  }
 ],
 "metadata": {
  "application/vnd.databricks.v1+notebook": {
   "dashboards": [],
   "language": "python",
   "notebookMetadata": {
    "pythonIndentUnit": 4
   },
   "notebookName": "bronze to silver",
   "widgets": {}
  }
 },
 "nbformat": 4,
 "nbformat_minor": 0
}
