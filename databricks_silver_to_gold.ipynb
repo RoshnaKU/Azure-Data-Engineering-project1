{
 "cells": [
  {
   "cell_type": "code",
   "execution_count": 0,
   "metadata": {
    "application/vnd.databricks.v1+cell": {
     "cellMetadata": {},
     "inputWidgets": {},
     "nuid": "3255ae9d-c7d4-4b43-8285-2f4ef9dc7ea3",
     "showTitle": false,
     "title": ""
    }
   },
   "outputs": [],
   "source": [
    "service_credential = dbutils.secrets.get(scope=\"azure-key-vault-secret1\",key=\"datalake-secret\")\n",
    "\n",
    "spark.conf.set(\"fs.azure.account.auth.type.rkudatalakegen2.dfs.core.windows.net\", \"OAuth\")\n",
    "spark.conf.set(\"fs.azure.account.oauth.provider.type.rkudatalakegen2.dfs.core.windows.net\", \"org.apache.hadoop.fs.azurebfs.oauth2.ClientCredsTokenProvider\")\n",
    "spark.conf.set(\"fs.azure.account.oauth2.client.id.rkudatalakegen2.dfs.core.windows.net\", \"e1c699e2-256e-4508-a129-340636ed905f\")\n",
    "spark.conf.set(\"fs.azure.account.oauth2.client.secret.rkudatalakegen2.dfs.core.windows.net\", service_credential)\n",
    "spark.conf.set(\"fs.azure.account.oauth2.client.endpoint.rkudatalakegen2.dfs.core.windows.net\", \"https://login.microsoftonline.com/6dfaeccd-2d4f-43fc-8db8-8298cf6e47f1/oauth2/token\")"
   ]
  },
  {
   "cell_type": "code",
   "execution_count": 0,
   "metadata": {
    "application/vnd.databricks.v1+cell": {
     "cellMetadata": {
      "byteLimit": 2048000,
      "rowLimit": 10000
     },
     "inputWidgets": {},
     "nuid": "4793c6c4-1b68-4c48-b1d6-4fe6a85299fe",
     "showTitle": false,
     "title": ""
    }
   },
   "outputs": [
    {
     "output_type": "stream",
     "name": "stdout",
     "output_type": "stream",
     "text": [
      "['Address', 'Customer', 'CustomerAddress', 'Product', 'ProductCategory', 'ProductDescription', 'ProductModel', 'ProductModelProductDescription', 'SalesOrderDetail', 'SalesOrderHeader']\n"
     ]
    }
   ],
   "source": [
    "table_name=[]\n",
    "\n",
    "for n in dbutils.fs.ls(\"abfss://silver@rkudatalakegen2.dfs.core.windows.net/SalesLT/\"):\n",
    "    table_name.append(n.name[:-1])"
   ]
  },
  {
   "cell_type": "code",
   "execution_count": 0,
   "metadata": {
    "application/vnd.databricks.v1+cell": {
     "cellMetadata": {
      "byteLimit": 2048000,
      "rowLimit": 10000
     },
     "inputWidgets": {},
     "nuid": "f1bff14c-44de-4a10-b666-8834dbe0b63c",
     "showTitle": false,
     "title": ""
    }
   },
   "outputs": [],
   "source": [
    "import pyspark\n",
    "for each_table in table_name:\n",
    "    input_path = f'abfss://silver@rkudatalakegen2.dfs.core.windows.net/SalesLT/{each_table}/'\n",
    "    df = spark.read.format('delta').load(input_path)\n",
    "    column_names = df.columns\n",
    "    for col in column_names:\n",
    "        new_col=\"\".join([f\"_{col[i]}\" if col[i].isupper() and i!=0 and not col[i-1].isupper() else col[i] for i in range(len(col))])\n",
    "        \n",
    "        df = df.withColumnRenamed(col,new_col)\n",
    "    output_path = f'abfss://gold@rkudatalakegen2.dfs.core.windows.net/SalesLT/{each_table}/'\n",
    "    df.write.format('delta').mode(\"overwrite\").save(output_path)"
   ]
  }
 ],
 "metadata": {
  "application/vnd.databricks.v1+notebook": {
   "dashboards": [],
   "language": "python",
   "notebookMetadata": {
    "pythonIndentUnit": 4
   },
   "notebookName": "silver to gold",
   "widgets": {}
  }
 },
 "nbformat": 4,
 "nbformat_minor": 0
}
