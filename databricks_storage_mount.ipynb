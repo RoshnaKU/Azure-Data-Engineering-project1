{
 "cells": [
  {
   "cell_type": "code",
   "execution_count": 0,
   "metadata": {
    "application/vnd.databricks.v1+cell": {
     "cellMetadata": {
      "byteLimit": 2048000,
      "rowLimit": 10000
     },
     "inputWidgets": {},
     "nuid": "5a723386-90ab-4be9-9dca-432e1da570bb",
     "showTitle": false,
     "title": ""
    }
   },
   "outputs": [],
   "source": [
    "service_credential = dbutils.secrets.get(scope=\"azure-key-vault-secret1\",key=\"datalake-secret\")\n",
    "\n",
    "spark.conf.set(\"fs.azure.account.auth.type.rkudatalakegen2.dfs.core.windows.net\", \"OAuth\")\n",
    "spark.conf.set(\"fs.azure.account.oauth.provider.type.rkudatalakegen2.dfs.core.windows.net\", \"org.apache.hadoop.fs.azurebfs.oauth2.ClientCredsTokenProvider\")\n",
    "spark.conf.set(\"fs.azure.account.oauth2.client.id.rkudatalakegen2.dfs.core.windows.net\", \"e1c699e2-256e-4508-a129-340636ed905f\")\n",
    "spark.conf.set(\"fs.azure.account.oauth2.client.secret.rkudatalakegen2.dfs.core.windows.net\", service_credential)\n",
    "spark.conf.set(\"fs.azure.account.oauth2.client.endpoint.rkudatalakegen2.dfs.core.windows.net\", \"https://login.microsoftonline.com/6dfaeccd-2d4f-43fc-8db8-8298cf6e47f1/oauth2/token\")"
   ]
  }
 ],
 "metadata": {
  "application/vnd.databricks.v1+notebook": {
   "dashboards": [],
   "language": "python",
   "notebookMetadata": {
    "pythonIndentUnit": 4
   },
   "notebookName": "storage mount",
   "widgets": {}
  }
 },
 "nbformat": 4,
 "nbformat_minor": 0
}
